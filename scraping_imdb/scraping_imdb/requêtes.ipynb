{
 "cells": [
  {
   "attachments": {},
   "cell_type": "markdown",
   "metadata": {},
   "source": [
    "# Questions MongoDB"
   ]
  },
  {
   "cell_type": "code",
   "execution_count": 81,
   "metadata": {},
   "outputs": [],
   "source": [
    "# Import des packages nécessaires à l'exécution du notebook\n",
    "\n",
    "from pymongo import MongoClient\n",
    "from dotenv import load_dotenv\n",
    "import os\n",
    "import pymongo\n",
    "\n",
    "load_dotenv()\n",
    "ATLAS_KEY = os.getenv(\"ATLAS_KEY\")\n"
   ]
  },
  {
   "cell_type": "code",
   "execution_count": 84,
   "metadata": {},
   "outputs": [],
   "source": [
    "# Connexion à la base de données et à la collection utilisée\n",
    "\n",
    "client = MongoClient(ATLAS_KEY)\n",
    "db = client.IMDBscrap\n",
    "collection = db.films"
   ]
  },
  {
   "attachments": {},
   "cell_type": "markdown",
   "metadata": {},
   "source": [
    "## Quel est le film le plus long ?\n"
   ]
  },
  {
   "cell_type": "code",
   "execution_count": 85,
   "metadata": {},
   "outputs": [
    {
     "data": {
      "text/plain": [
       "'Gone with the Wind'"
      ]
     },
     "execution_count": 85,
     "metadata": {},
     "output_type": "execute_result"
    }
   ],
   "source": [
    "film_le_plus_long = collection.find_one(sort=[(\"duree\", -1)])\n",
    "film_le_plus_long['titre']"
   ]
  },
  {
   "attachments": {},
   "cell_type": "markdown",
   "metadata": {},
   "source": [
    "## Quels sont les 5 films les mieux notés ?"
   ]
  },
  {
   "cell_type": "code",
   "execution_count": 86,
   "metadata": {},
   "outputs": [
    {
     "name": "stdout",
     "output_type": "stream",
     "text": [
      "The Shawshank Redemption 9.3\n",
      "The Godfather 9.2\n",
      "The Lord of the Rings: The Return of the King 9.0\n",
      "The Godfather Part II 9.0\n",
      "The Dark Knight 9.0\n"
     ]
    }
   ],
   "source": [
    "results = collection.find(sort=[(\"score\",-1)], limit=5)\n",
    "for result in results:\n",
    "    print(result['titre'], result['score'])\n"
   ]
  },
  {
   "attachments": {},
   "cell_type": "markdown",
   "metadata": {},
   "source": [
    "## Dans combien de films a joué Morgan Freeman ? Tom Cruise ?\n"
   ]
  },
  {
   "cell_type": "code",
   "execution_count": 87,
   "metadata": {},
   "outputs": [
    {
     "name": "stdout",
     "output_type": "stream",
     "text": [
      "Morgan Freeman a joué dans 4 films de la liste et Tom Cruise a joué dans 1 film de la liste.\n"
     ]
    }
   ],
   "source": [
    "films_morgan_freeman = collection.count_documents({\"acteurs_principaux\":\"Morgan Freeman\"})\n",
    "films_tom_cruise = collection.count_documents({\"acteurs_principaux\":\"Tom Cruise\"})\n",
    "\n",
    "print(f\"Morgan Freeman a joué dans {films_morgan_freeman} films de la liste et Tom Cruise a joué dans {films_tom_cruise} film de la liste.\")\n"
   ]
  },
  {
   "attachments": {},
   "cell_type": "markdown",
   "metadata": {},
   "source": [
    "## Quels sont les 3 meilleurs films d’horreur ? Dramatique ? Comique ?"
   ]
  },
  {
   "cell_type": "code",
   "execution_count": 88,
   "metadata": {},
   "outputs": [
    {
     "name": "stdout",
     "output_type": "stream",
     "text": [
      "Psycho\n",
      "Alien\n",
      "The Shining\n"
     ]
    }
   ],
   "source": [
    "titres_horreur = collection.find({\"genre\":\"Horror\"},sort=([(\"score\", -1)]),limit=3)\n",
    "for titre in titres_horreur:\n",
    "    print(titre['titre'])"
   ]
  },
  {
   "cell_type": "code",
   "execution_count": 89,
   "metadata": {},
   "outputs": [
    {
     "name": "stdout",
     "output_type": "stream",
     "text": [
      "The Shawshank Redemption\n",
      "The Godfather\n",
      "The Dark Knight\n"
     ]
    }
   ],
   "source": [
    "titres_dramatiques = collection.find({\"genre\":\"Drama\"},sort=([(\"score\", -1)]),limit=3)\n",
    "for titre in titres_dramatiques:\n",
    "    print(titre['titre'])"
   ]
  },
  {
   "cell_type": "code",
   "execution_count": 90,
   "metadata": {},
   "outputs": [
    {
     "name": "stdout",
     "output_type": "stream",
     "text": [
      "Life Is Beautiful\n",
      "The Intouchables\n",
      "Modern Times\n"
     ]
    }
   ],
   "source": [
    "titres_comiques = collection.find({\"genre\":\"Comedy\"},sort=([(\"score\", -1)]),limit=3)\n",
    "for titre in titres_comiques:\n",
    "    print(titre['titre'])"
   ]
  },
  {
   "attachments": {},
   "cell_type": "markdown",
   "metadata": {},
   "source": [
    "## Parmi les 100 films les mieux notés, quel pourcentage sont américains ? Français ?"
   ]
  },
  {
   "cell_type": "code",
   "execution_count": 91,
   "metadata": {},
   "outputs": [
    {
     "name": "stdout",
     "output_type": "stream",
     "text": [
      "Pourcentage de films américains:  60.0\n",
      "Pourcentage de films français:  4.0\n"
     ]
    }
   ],
   "source": [
    "# Extraire les 100 films les mieux notés\n",
    "top_films = collection.find(sort=[(\"score\", -1)], limit=100)\n",
    "\n",
    "# Initilisés un compteur pour chaque pays\n",
    "nb_films_americains = 0\n",
    "nb_films_francais = 0\n",
    "\n",
    "# Compter le nombre de films par pays \n",
    "for film in top_films:\n",
    "    if film[\"pays\"] == \"United States\":\n",
    "        nb_films_americains += 1\n",
    "    elif film[\"pays\"] == \"France\":\n",
    "        nb_films_francais += 1\n",
    "        \n",
    "# Calculer les pourcentages\n",
    "pourcentage_films_americains = (nb_films_americains / 100) * 100\n",
    "pourcentage_films_francais = (nb_films_francais / 100) * 100\n",
    "\n",
    "print(\"Pourcentage de films américains: \", pourcentage_films_americains)\n",
    "print(\"Pourcentage de films français: \", pourcentage_films_francais)\n",
    "\n"
   ]
  },
  {
   "attachments": {},
   "cell_type": "markdown",
   "metadata": {},
   "source": [
    "## Quel est la durée moyenne d’un film en fonction du genre ?\n"
   ]
  },
  {
   "cell_type": "code",
   "execution_count": 92,
   "metadata": {},
   "outputs": [
    {
     "name": "stdout",
     "output_type": "stream",
     "text": [
      "Le genre Crime a une durée moyenne de 132.50 minutes.\n",
      "Le genre Western a une durée moyenne de 153.86 minutes.\n",
      "Le genre War a une durée moyenne de 140.05 minutes.\n",
      "Le genre Animation a une durée moyenne de 100.96 minutes.\n",
      "Le genre Adventure a une durée moyenne de 130.12 minutes.\n",
      "Le genre Fantasy a une durée moyenne de 123.57 minutes.\n",
      "Le genre Thriller a une durée moyenne de 123.88 minutes.\n",
      "Le genre Musical a une durée moyenne de 103.00 minutes.\n",
      "Le genre Mystery a une durée moyenne de 124.61 minutes.\n",
      "Le genre Romance a une durée moyenne de 121.82 minutes.\n",
      "Le genre Drama a une durée moyenne de 134.50 minutes.\n",
      "Le genre History a une durée moyenne de 152.11 minutes.\n",
      "Le genre Biography a une durée moyenne de 145.50 minutes.\n",
      "Le genre Film-Noir a une durée moyenne de 110.00 minutes.\n",
      "Le genre Comedy a une durée moyenne de 106.98 minutes.\n",
      "Le genre Action a une durée moyenne de 136.30 minutes.\n",
      "Le genre Horror a une durée moyenne de 120.60 minutes.\n",
      "Le genre Sci-Fi a une durée moyenne de 131.70 minutes.\n",
      "Le genre Family a une durée moyenne de 114.54 minutes.\n",
      "Le genre Sport a une durée moyenne de 122.00 minutes.\n",
      "Le genre Music a une durée moyenne de 134.25 minutes.\n"
     ]
    }
   ],
   "source": [
    "pipeline = [\n",
    "    {\"$unwind\": \"$genre\"}, # Sépare en plusieurs documents les films qui ont plusieurs genres\n",
    "    {\"$group\": {\"_id\": \"$genre\", \"avg_duration\": {\"$avg\": \"$duree\"}}} # Groupe par genre et calcule la durée moyenne\n",
    "]\n",
    "\n",
    "results = collection.aggregate(pipeline)\n",
    "\n",
    "for result in results:\n",
    "    print(\"Le genre {} a une durée moyenne de {:.2f} minutes.\".format(result[\"_id\"], result[\"avg_duration\"]))\n",
    "\n"
   ]
  },
  {
   "attachments": {},
   "cell_type": "markdown",
   "metadata": {},
   "source": [
    "## En fonction du genre, afficher la liste des films les plus longs.\n"
   ]
  },
  {
   "cell_type": "code",
   "execution_count": 95,
   "metadata": {},
   "outputs": [
    {
     "name": "stdout",
     "output_type": "stream",
     "text": [
      "########\n",
      "Action  : \n",
      "Seven Samurai\n",
      "The Lord of the Rings: The Return of the King\n",
      "Avengers: Endgame\n",
      "########\n",
      "Adventure  : \n",
      "Lawrence of Arabia\n",
      "Ben-Hur\n",
      "The Lord of the Rings: The Return of the King\n",
      "########\n",
      "Animation  : \n",
      "Princess Mononoke\n",
      "Spirited Away\n",
      "Howl's Moving Castle\n",
      "########\n",
      "Biography  : \n",
      "Lawrence of Arabia\n",
      "Schindler's List\n",
      "The Wolf of Wall Street\n",
      "########\n",
      "Comedy  : \n",
      "The Wolf of Wall Street\n",
      "3 Idiots\n",
      "Green Book\n",
      "########\n",
      "Crime  : \n",
      "Once Upon a Time in America\n",
      "The Godfather Part II\n",
      "The Green Mile\n",
      "########\n",
      "Drama  : \n",
      "Gone with the Wind\n",
      "Once Upon a Time in America\n",
      "Lawrence of Arabia\n",
      "########\n",
      "Family  : \n",
      "The Sound of Music\n",
      "Like Stars on Earth\n",
      "Harry Potter and the Deathly Hallows: Part 2\n",
      "########\n",
      "Fantasy  : \n",
      "The Green Mile\n",
      "Spider-Man: No Way Home\n",
      "Pirates of the Caribbean: The Curse of the Black Pearl\n",
      "########\n",
      "Film-Noir  : \n",
      "Rebecca\n",
      "Sunset Blvd.\n",
      "Double Indemnity\n",
      "########\n",
      "History  : \n",
      "Schindler's List\n",
      "Braveheart\n",
      "The Great Escape\n",
      "########\n",
      "Horror  : \n",
      "The Shining\n",
      "The Exorcist\n",
      "Alien\n",
      "########\n",
      "Music  : \n",
      "Amadeus\n",
      "The Pianist\n",
      "Some Like It Hot\n",
      "########\n",
      "Musical  : \n",
      "Singin' in the Rain\n",
      "########\n",
      "Mystery  : \n",
      "Jai Bhim\n",
      "Prisoners\n",
      "Gone Girl\n",
      "########\n",
      "Romance  : \n",
      "Gone with the Wind\n",
      "The Best Years of Our Lives\n",
      "Cinema Paradiso\n",
      "########\n",
      "Sci-Fi  : \n",
      "Interstellar\n",
      "Metropolis\n",
      "Avengers: Infinity War\n",
      "########\n",
      "Sport  : \n",
      "Warrior\n",
      "Million Dollar Baby\n",
      "Raging Bull\n",
      "########\n",
      "Thriller  : \n",
      "John Wick: Chapter 4\n",
      "The Dark Knight Rises\n",
      "Amores Perros\n",
      "########\n",
      "War  : \n",
      "Gone with the Wind\n",
      "Barry Lyndon\n",
      "The Deer Hunter\n",
      "########\n",
      "Western  : \n",
      "Dances with Wolves\n",
      "The Good, the Bad and the Ugly\n",
      "Once Upon a Time in the West\n"
     ]
    }
   ],
   "source": [
    "# Extraire la liste des genres \n",
    "genres = collection.distinct(\"genre\")\n",
    "\n",
    "for genre in genres:\n",
    "    resultats = collection.find({\"genre\": genre},sort=[(\"duree\",-1)]).limit(3)\n",
    "    print('########')\n",
    "    print(genre,\" : \")\n",
    "    for resultat in resultats:\n",
    "        print(resultat[\"titre\"])"
   ]
  },
  {
   "attachments": {},
   "cell_type": "markdown",
   "metadata": {},
   "source": [
    "## En fonction du genre, quel est le coût de tournage d’une minute de film ?"
   ]
  },
  {
   "cell_type": "code",
   "execution_count": 97,
   "metadata": {},
   "outputs": [
    {
     "ename": "InvalidDocument",
     "evalue": "cannot encode object: {'$duree'}, of type: <class 'set'>",
     "output_type": "error",
     "traceback": [
      "\u001b[0;31m---------------------------------------------------------------------------\u001b[0m",
      "\u001b[0;31mInvalidDocument\u001b[0m                           Traceback (most recent call last)",
      "Cell \u001b[0;32mIn[97], line 16\u001b[0m\n\u001b[1;32m      7\u001b[0m pipeline \u001b[39m=\u001b[39m [\n\u001b[1;32m      8\u001b[0m {\u001b[39m\"\u001b[39m\u001b[39m$unwind\u001b[39m\u001b[39m\"\u001b[39m: \u001b[39m\"\u001b[39m\u001b[39m$genre\u001b[39m\u001b[39m\"\u001b[39m},\n\u001b[1;32m      9\u001b[0m {\u001b[39m\"\u001b[39m\u001b[39m$match\u001b[39m\u001b[39m\"\u001b[39m: {\u001b[39m\"\u001b[39m\u001b[39mgenre\u001b[39m\u001b[39m\"\u001b[39m: genre}},\n\u001b[1;32m     10\u001b[0m {\u001b[39m\"\u001b[39m\u001b[39m$project\u001b[39m\u001b[39m\"\u001b[39m: {\u001b[39m\"\u001b[39m\u001b[39mtitre\u001b[39m\u001b[39m\"\u001b[39m: \u001b[39m1\u001b[39m, \u001b[39m\"\u001b[39m\u001b[39mduree\u001b[39m\u001b[39m\"\u001b[39m: \u001b[39m1\u001b[39m, \u001b[39m\"\u001b[39m\u001b[39mcout\u001b[39m\u001b[39m\"\u001b[39m: \u001b[39m1\u001b[39m, \n\u001b[1;32m     11\u001b[0m               \u001b[39m\"\u001b[39m\u001b[39mcout_par_minute\u001b[39m\u001b[39m\"\u001b[39m: {\u001b[39m\"\u001b[39m\u001b[39m$divide\u001b[39m\u001b[39m\"\u001b[39m: [\u001b[39m\"\u001b[39m\u001b[39m$cout\u001b[39m\u001b[39m\"\u001b[39m, {\u001b[39m\"\u001b[39m\u001b[39m$duree\u001b[39m\u001b[39m\"\u001b[39m}]}}}\n\u001b[1;32m     12\u001b[0m ]\n\u001b[1;32m     15\u001b[0m \u001b[39m# Exécution de la requête et affichage des résultats\u001b[39;00m\n\u001b[0;32m---> 16\u001b[0m results \u001b[39m=\u001b[39m collection\u001b[39m.\u001b[39;49maggregate(pipeline)\n\u001b[1;32m     17\u001b[0m \u001b[39mfor\u001b[39;00m result \u001b[39min\u001b[39;00m results:\n\u001b[1;32m     18\u001b[0m     \u001b[39mprint\u001b[39m(\u001b[39m\"\u001b[39m\u001b[39mLe coût de tournage d\u001b[39m\u001b[39m'\u001b[39m\u001b[39mune minute de film pour le genre \u001b[39m\u001b[39m{}\u001b[39;00m\u001b[39m est de $\u001b[39m\u001b[39m{:.2f}\u001b[39;00m\u001b[39m\"\u001b[39m\u001b[39m.\u001b[39mformat(result[\u001b[39m\"\u001b[39m\u001b[39mtitre\u001b[39m\u001b[39m\"\u001b[39m], result[\u001b[39m\"\u001b[39m\u001b[39mcout_moyen_par_minute\u001b[39m\u001b[39m\"\u001b[39m]))\n",
      "File \u001b[0;32m~/miniconda3/envs/scrap-env/lib/python3.11/site-packages/pymongo/collection.py:2436\u001b[0m, in \u001b[0;36mCollection.aggregate\u001b[0;34m(self, pipeline, session, let, comment, **kwargs)\u001b[0m\n\u001b[1;32m   2358\u001b[0m \u001b[39m\u001b[39m\u001b[39m\"\"\"Perform an aggregation using the aggregation framework on this\u001b[39;00m\n\u001b[1;32m   2359\u001b[0m \u001b[39mcollection.\u001b[39;00m\n\u001b[1;32m   2360\u001b[0m \n\u001b[0;32m   (...)\u001b[0m\n\u001b[1;32m   2432\u001b[0m \u001b[39m    https://mongodb.com/docs/manual/reference/command/aggregate\u001b[39;00m\n\u001b[1;32m   2433\u001b[0m \u001b[39m\"\"\"\u001b[39;00m\n\u001b[1;32m   2435\u001b[0m \u001b[39mwith\u001b[39;00m \u001b[39mself\u001b[39m\u001b[39m.\u001b[39m__database\u001b[39m.\u001b[39mclient\u001b[39m.\u001b[39m_tmp_session(session, close\u001b[39m=\u001b[39m\u001b[39mFalse\u001b[39;00m) \u001b[39mas\u001b[39;00m s:\n\u001b[0;32m-> 2436\u001b[0m     \u001b[39mreturn\u001b[39;00m \u001b[39mself\u001b[39;49m\u001b[39m.\u001b[39;49m_aggregate(\n\u001b[1;32m   2437\u001b[0m         _CollectionAggregationCommand,\n\u001b[1;32m   2438\u001b[0m         pipeline,\n\u001b[1;32m   2439\u001b[0m         CommandCursor,\n\u001b[1;32m   2440\u001b[0m         session\u001b[39m=\u001b[39;49ms,\n\u001b[1;32m   2441\u001b[0m         explicit_session\u001b[39m=\u001b[39;49msession \u001b[39mis\u001b[39;49;00m \u001b[39mnot\u001b[39;49;00m \u001b[39mNone\u001b[39;49;00m,\n\u001b[1;32m   2442\u001b[0m         let\u001b[39m=\u001b[39;49mlet,\n\u001b[1;32m   2443\u001b[0m         comment\u001b[39m=\u001b[39;49mcomment,\n\u001b[1;32m   2444\u001b[0m         \u001b[39m*\u001b[39;49m\u001b[39m*\u001b[39;49mkwargs,\n\u001b[1;32m   2445\u001b[0m     )\n",
      "File \u001b[0;32m~/miniconda3/envs/scrap-env/lib/python3.11/site-packages/pymongo/_csot.py:105\u001b[0m, in \u001b[0;36mapply.<locals>.csot_wrapper\u001b[0;34m(self, *args, **kwargs)\u001b[0m\n\u001b[1;32m    103\u001b[0m         \u001b[39mwith\u001b[39;00m _TimeoutContext(timeout):\n\u001b[1;32m    104\u001b[0m             \u001b[39mreturn\u001b[39;00m func(\u001b[39mself\u001b[39m, \u001b[39m*\u001b[39margs, \u001b[39m*\u001b[39m\u001b[39m*\u001b[39mkwargs)\n\u001b[0;32m--> 105\u001b[0m \u001b[39mreturn\u001b[39;00m func(\u001b[39mself\u001b[39;49m, \u001b[39m*\u001b[39;49margs, \u001b[39m*\u001b[39;49m\u001b[39m*\u001b[39;49mkwargs)\n",
      "File \u001b[0;32m~/miniconda3/envs/scrap-env/lib/python3.11/site-packages/pymongo/collection.py:2343\u001b[0m, in \u001b[0;36mCollection._aggregate\u001b[0;34m(self, aggregation_command, pipeline, cursor_class, session, explicit_session, let, comment, **kwargs)\u001b[0m\n\u001b[1;32m   2332\u001b[0m     kwargs[\u001b[39m\"\u001b[39m\u001b[39mcomment\u001b[39m\u001b[39m\"\u001b[39m] \u001b[39m=\u001b[39m comment\n\u001b[1;32m   2333\u001b[0m cmd \u001b[39m=\u001b[39m aggregation_command(\n\u001b[1;32m   2334\u001b[0m     \u001b[39mself\u001b[39m,\n\u001b[1;32m   2335\u001b[0m     cursor_class,\n\u001b[0;32m   (...)\u001b[0m\n\u001b[1;32m   2340\u001b[0m     user_fields\u001b[39m=\u001b[39m{\u001b[39m\"\u001b[39m\u001b[39mcursor\u001b[39m\u001b[39m\"\u001b[39m: {\u001b[39m\"\u001b[39m\u001b[39mfirstBatch\u001b[39m\u001b[39m\"\u001b[39m: \u001b[39m1\u001b[39m}},\n\u001b[1;32m   2341\u001b[0m )\n\u001b[0;32m-> 2343\u001b[0m \u001b[39mreturn\u001b[39;00m \u001b[39mself\u001b[39;49m\u001b[39m.\u001b[39;49m__database\u001b[39m.\u001b[39;49mclient\u001b[39m.\u001b[39;49m_retryable_read(\n\u001b[1;32m   2344\u001b[0m     cmd\u001b[39m.\u001b[39;49mget_cursor,\n\u001b[1;32m   2345\u001b[0m     cmd\u001b[39m.\u001b[39;49mget_read_preference(session),\n\u001b[1;32m   2346\u001b[0m     session,\n\u001b[1;32m   2347\u001b[0m     retryable\u001b[39m=\u001b[39;49m\u001b[39mnot\u001b[39;49;00m cmd\u001b[39m.\u001b[39;49m_performs_write,\n\u001b[1;32m   2348\u001b[0m )\n",
      "File \u001b[0;32m~/miniconda3/envs/scrap-env/lib/python3.11/site-packages/pymongo/_csot.py:105\u001b[0m, in \u001b[0;36mapply.<locals>.csot_wrapper\u001b[0;34m(self, *args, **kwargs)\u001b[0m\n\u001b[1;32m    103\u001b[0m         \u001b[39mwith\u001b[39;00m _TimeoutContext(timeout):\n\u001b[1;32m    104\u001b[0m             \u001b[39mreturn\u001b[39;00m func(\u001b[39mself\u001b[39m, \u001b[39m*\u001b[39margs, \u001b[39m*\u001b[39m\u001b[39m*\u001b[39mkwargs)\n\u001b[0;32m--> 105\u001b[0m \u001b[39mreturn\u001b[39;00m func(\u001b[39mself\u001b[39;49m, \u001b[39m*\u001b[39;49margs, \u001b[39m*\u001b[39;49m\u001b[39m*\u001b[39;49mkwargs)\n",
      "File \u001b[0;32m~/miniconda3/envs/scrap-env/lib/python3.11/site-packages/pymongo/mongo_client.py:1448\u001b[0m, in \u001b[0;36mMongoClient._retryable_read\u001b[0;34m(self, func, read_pref, session, address, retryable)\u001b[0m\n\u001b[1;32m   1446\u001b[0m             \u001b[39massert\u001b[39;00m last_error \u001b[39mis\u001b[39;00m \u001b[39mnot\u001b[39;00m \u001b[39mNone\u001b[39;00m\n\u001b[1;32m   1447\u001b[0m             \u001b[39mraise\u001b[39;00m last_error\n\u001b[0;32m-> 1448\u001b[0m         \u001b[39mreturn\u001b[39;00m func(session, server, sock_info, read_pref)\n\u001b[1;32m   1449\u001b[0m \u001b[39mexcept\u001b[39;00m ServerSelectionTimeoutError:\n\u001b[1;32m   1450\u001b[0m     \u001b[39mif\u001b[39;00m retrying:\n\u001b[1;32m   1451\u001b[0m         \u001b[39m# The application may think the write was never attempted\u001b[39;00m\n\u001b[1;32m   1452\u001b[0m         \u001b[39m# if we raise ServerSelectionTimeoutError on the retry\u001b[39;00m\n\u001b[1;32m   1453\u001b[0m         \u001b[39m# attempt. Raise the original exception instead.\u001b[39;00m\n",
      "File \u001b[0;32m~/miniconda3/envs/scrap-env/lib/python3.11/site-packages/pymongo/aggregation.py:142\u001b[0m, in \u001b[0;36m_AggregationCommand.get_cursor\u001b[0;34m(self, session, server, sock_info, read_preference)\u001b[0m\n\u001b[1;32m    139\u001b[0m     write_concern \u001b[39m=\u001b[39m \u001b[39mNone\u001b[39;00m\n\u001b[1;32m    141\u001b[0m \u001b[39m# Run command.\u001b[39;00m\n\u001b[0;32m--> 142\u001b[0m result \u001b[39m=\u001b[39m sock_info\u001b[39m.\u001b[39;49mcommand(\n\u001b[1;32m    143\u001b[0m     \u001b[39mself\u001b[39;49m\u001b[39m.\u001b[39;49m_database\u001b[39m.\u001b[39;49mname,\n\u001b[1;32m    144\u001b[0m     cmd,\n\u001b[1;32m    145\u001b[0m     read_preference,\n\u001b[1;32m    146\u001b[0m     \u001b[39mself\u001b[39;49m\u001b[39m.\u001b[39;49m_target\u001b[39m.\u001b[39;49mcodec_options,\n\u001b[1;32m    147\u001b[0m     parse_write_concern_error\u001b[39m=\u001b[39;49m\u001b[39mTrue\u001b[39;49;00m,\n\u001b[1;32m    148\u001b[0m     read_concern\u001b[39m=\u001b[39;49mread_concern,\n\u001b[1;32m    149\u001b[0m     write_concern\u001b[39m=\u001b[39;49mwrite_concern,\n\u001b[1;32m    150\u001b[0m     collation\u001b[39m=\u001b[39;49m\u001b[39mself\u001b[39;49m\u001b[39m.\u001b[39;49m_collation,\n\u001b[1;32m    151\u001b[0m     session\u001b[39m=\u001b[39;49msession,\n\u001b[1;32m    152\u001b[0m     client\u001b[39m=\u001b[39;49m\u001b[39mself\u001b[39;49m\u001b[39m.\u001b[39;49m_database\u001b[39m.\u001b[39;49mclient,\n\u001b[1;32m    153\u001b[0m     user_fields\u001b[39m=\u001b[39;49m\u001b[39mself\u001b[39;49m\u001b[39m.\u001b[39;49m_user_fields,\n\u001b[1;32m    154\u001b[0m )\n\u001b[1;32m    156\u001b[0m \u001b[39mif\u001b[39;00m \u001b[39mself\u001b[39m\u001b[39m.\u001b[39m_result_processor:\n\u001b[1;32m    157\u001b[0m     \u001b[39mself\u001b[39m\u001b[39m.\u001b[39m_result_processor(result, sock_info)\n",
      "File \u001b[0;32m~/miniconda3/envs/scrap-env/lib/python3.11/site-packages/pymongo/pool.py:795\u001b[0m, in \u001b[0;36mSocketInfo.command\u001b[0;34m(self, dbname, spec, read_preference, codec_options, check, allowable_errors, read_concern, write_concern, parse_write_concern_error, collation, session, client, retryable_write, publish_events, user_fields, exhaust_allowed)\u001b[0m\n\u001b[1;32m    793\u001b[0m \u001b[39m# Catch socket.error, KeyboardInterrupt, etc. and close ourselves.\u001b[39;00m\n\u001b[1;32m    794\u001b[0m \u001b[39mexcept\u001b[39;00m \u001b[39mBaseException\u001b[39;00m \u001b[39mas\u001b[39;00m error:\n\u001b[0;32m--> 795\u001b[0m     \u001b[39mself\u001b[39;49m\u001b[39m.\u001b[39;49m_raise_connection_failure(error)\n",
      "File \u001b[0;32m~/miniconda3/envs/scrap-env/lib/python3.11/site-packages/pymongo/pool.py:767\u001b[0m, in \u001b[0;36mSocketInfo.command\u001b[0;34m(self, dbname, spec, read_preference, codec_options, check, allowable_errors, read_concern, write_concern, parse_write_concern_error, collation, session, client, retryable_write, publish_events, user_fields, exhaust_allowed)\u001b[0m\n\u001b[1;32m    765\u001b[0m     \u001b[39mself\u001b[39m\u001b[39m.\u001b[39m_raise_if_not_writable(unacknowledged)\n\u001b[1;32m    766\u001b[0m \u001b[39mtry\u001b[39;00m:\n\u001b[0;32m--> 767\u001b[0m     \u001b[39mreturn\u001b[39;00m command(\n\u001b[1;32m    768\u001b[0m         \u001b[39mself\u001b[39;49m,\n\u001b[1;32m    769\u001b[0m         dbname,\n\u001b[1;32m    770\u001b[0m         spec,\n\u001b[1;32m    771\u001b[0m         \u001b[39mself\u001b[39;49m\u001b[39m.\u001b[39;49mis_mongos,\n\u001b[1;32m    772\u001b[0m         read_preference,\n\u001b[1;32m    773\u001b[0m         codec_options,\n\u001b[1;32m    774\u001b[0m         session,\n\u001b[1;32m    775\u001b[0m         client,\n\u001b[1;32m    776\u001b[0m         check,\n\u001b[1;32m    777\u001b[0m         allowable_errors,\n\u001b[1;32m    778\u001b[0m         \u001b[39mself\u001b[39;49m\u001b[39m.\u001b[39;49maddress,\n\u001b[1;32m    779\u001b[0m         listeners,\n\u001b[1;32m    780\u001b[0m         \u001b[39mself\u001b[39;49m\u001b[39m.\u001b[39;49mmax_bson_size,\n\u001b[1;32m    781\u001b[0m         read_concern,\n\u001b[1;32m    782\u001b[0m         parse_write_concern_error\u001b[39m=\u001b[39;49mparse_write_concern_error,\n\u001b[1;32m    783\u001b[0m         collation\u001b[39m=\u001b[39;49mcollation,\n\u001b[1;32m    784\u001b[0m         compression_ctx\u001b[39m=\u001b[39;49m\u001b[39mself\u001b[39;49m\u001b[39m.\u001b[39;49mcompression_context,\n\u001b[1;32m    785\u001b[0m         use_op_msg\u001b[39m=\u001b[39;49m\u001b[39mself\u001b[39;49m\u001b[39m.\u001b[39;49mop_msg_enabled,\n\u001b[1;32m    786\u001b[0m         unacknowledged\u001b[39m=\u001b[39;49munacknowledged,\n\u001b[1;32m    787\u001b[0m         user_fields\u001b[39m=\u001b[39;49muser_fields,\n\u001b[1;32m    788\u001b[0m         exhaust_allowed\u001b[39m=\u001b[39;49mexhaust_allowed,\n\u001b[1;32m    789\u001b[0m         write_concern\u001b[39m=\u001b[39;49mwrite_concern,\n\u001b[1;32m    790\u001b[0m     )\n\u001b[1;32m    791\u001b[0m \u001b[39mexcept\u001b[39;00m (OperationFailure, NotPrimaryError):\n\u001b[1;32m    792\u001b[0m     \u001b[39mraise\u001b[39;00m\n",
      "File \u001b[0;32m~/miniconda3/envs/scrap-env/lib/python3.11/site-packages/pymongo/network.py:127\u001b[0m, in \u001b[0;36mcommand\u001b[0;34m(sock_info, dbname, spec, is_mongos, read_preference, codec_options, session, client, check, allowable_errors, address, listeners, max_bson_size, read_concern, parse_write_concern_error, collation, compression_ctx, use_op_msg, unacknowledged, user_fields, exhaust_allowed, write_concern)\u001b[0m\n\u001b[1;32m    125\u001b[0m flags \u001b[39m=\u001b[39m _OpMsg\u001b[39m.\u001b[39mMORE_TO_COME \u001b[39mif\u001b[39;00m unacknowledged \u001b[39melse\u001b[39;00m \u001b[39m0\u001b[39m\n\u001b[1;32m    126\u001b[0m flags \u001b[39m|\u001b[39m\u001b[39m=\u001b[39m _OpMsg\u001b[39m.\u001b[39mEXHAUST_ALLOWED \u001b[39mif\u001b[39;00m exhaust_allowed \u001b[39melse\u001b[39;00m \u001b[39m0\u001b[39m\n\u001b[0;32m--> 127\u001b[0m request_id, msg, size, max_doc_size \u001b[39m=\u001b[39m message\u001b[39m.\u001b[39;49m_op_msg(\n\u001b[1;32m    128\u001b[0m     flags, spec, dbname, read_preference, codec_options, ctx\u001b[39m=\u001b[39;49mcompression_ctx\n\u001b[1;32m    129\u001b[0m )\n\u001b[1;32m    130\u001b[0m \u001b[39m# If this is an unacknowledged write then make sure the encoded doc(s)\u001b[39;00m\n\u001b[1;32m    131\u001b[0m \u001b[39m# are small enough, otherwise rely on the server to return an error.\u001b[39;00m\n\u001b[1;32m    132\u001b[0m \u001b[39mif\u001b[39;00m unacknowledged \u001b[39mand\u001b[39;00m max_bson_size \u001b[39mis\u001b[39;00m \u001b[39mnot\u001b[39;00m \u001b[39mNone\u001b[39;00m \u001b[39mand\u001b[39;00m max_doc_size \u001b[39m>\u001b[39m max_bson_size:\n",
      "File \u001b[0;32m~/miniconda3/envs/scrap-env/lib/python3.11/site-packages/pymongo/message.py:692\u001b[0m, in \u001b[0;36m_op_msg\u001b[0;34m(flags, command, dbname, read_preference, opts, ctx)\u001b[0m\n\u001b[1;32m    690\u001b[0m     \u001b[39mif\u001b[39;00m ctx:\n\u001b[1;32m    691\u001b[0m         \u001b[39mreturn\u001b[39;00m _op_msg_compressed(flags, command, identifier, docs, opts, ctx)\n\u001b[0;32m--> 692\u001b[0m     \u001b[39mreturn\u001b[39;00m _op_msg_uncompressed(flags, command, identifier, docs, opts)\n\u001b[1;32m    693\u001b[0m \u001b[39mfinally\u001b[39;00m:\n\u001b[1;32m    694\u001b[0m     \u001b[39m# Add the field back to the command.\u001b[39;00m\n\u001b[1;32m    695\u001b[0m     \u001b[39mif\u001b[39;00m identifier:\n",
      "\u001b[0;31mInvalidDocument\u001b[0m: cannot encode object: {'$duree'}, of type: <class 'set'>"
     ]
    }
   ],
   "source": [
    "# Récupération des genres présents dans la collection MongoDB\n",
    "genres = collection.distinct(\"genre\")\n",
    "\n",
    "# Boucle sur tous les genres pour calculer le coût de tournage d'une minute de film\n",
    "for genre in genres:\n",
    "    # Pipeline de requête MongoDB pour calculer le coût de tournage d'une minute de film pour le genre en cours de traitement\n",
    "    pipeline = [\n",
    "    {\"$unwind\": \"$genre\"},\n",
    "    {\"$match\": {\"genre\": genre}},\n",
    "    {\"$project\": {\"titre\": 1, \"duree\": 1, \"cout\": 1, \n",
    "                  \"cout_par_minute\": {\"$divide\": [\"$cout\", {\"$duree\"}]}}}\n",
    "    ]\n",
    "\n",
    "\n",
    "    # Exécution de la requête et affichage des résultats\n",
    "    results = collection.aggregate(pipeline)\n",
    "    for result in results:\n",
    "        print(\"Le coût de tournage d'une minute de film pour le genre {} est de ${:.2f}\".format(result[\"titre\"], result[\"cout_moyen_par_minute\"]))\n"
   ]
  },
  {
   "attachments": {},
   "cell_type": "markdown",
   "metadata": {},
   "source": [
    "## Quelles sont les 5 séries les mieux notées ? "
   ]
  },
  {
   "cell_type": "code",
   "execution_count": 98,
   "metadata": {},
   "outputs": [
    {
     "name": "stdout",
     "output_type": "stream",
     "text": [
      "Les 5 séries les mieux notées sont :\n",
      "Band of Brothers avec un score de 9.4 sur 10\n",
      "The X-Files avec un score de 8.6 sur 10\n",
      "Breaking Bad avec un score de 9.5 sur 10\n",
      "Planet Earth II avec un score de 9.5 sur 10\n",
      "Planet Earth avec un score de 9.4 sur 10\n"
     ]
    }
   ],
   "source": [
    "# Changement de collection pour passer des films aux séries\n",
    "collection = db['series']\n",
    "\n",
    "top_series = collection.find(sort=[(\"score\",-1)], limit=5)\n",
    "\n",
    "print(\"Les 5 séries les mieux notées sont :\")\n",
    "for serie in top_series:\n",
    "    print(f\"{serie['Title']} avec un score de {serie['Score']} sur 10\")\n"
   ]
  }
 ],
 "metadata": {
  "kernelspec": {
   "display_name": "scrap-env",
   "language": "python",
   "name": "python3"
  },
  "language_info": {
   "codemirror_mode": {
    "name": "ipython",
    "version": 3
   },
   "file_extension": ".py",
   "mimetype": "text/x-python",
   "name": "python",
   "nbconvert_exporter": "python",
   "pygments_lexer": "ipython3",
   "version": "3.11.2"
  },
  "orig_nbformat": 4,
  "vscode": {
   "interpreter": {
    "hash": "5e918e6be0625e8c39936d91bb62a04b28a82b841a2d23f0d512ad0b54d2aa64"
   }
  }
 },
 "nbformat": 4,
 "nbformat_minor": 2
}
