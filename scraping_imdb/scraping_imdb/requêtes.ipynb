{
 "cells": [
  {
   "cell_type": "code",
   "execution_count": 47,
   "metadata": {},
   "outputs": [],
   "source": [
    "from pymongo import MongoClient\n",
    "from dotenv import load_dotenv\n",
    "import os\n",
    "\n",
    "load_dotenv()\n",
    "ATLAS_KEY = os.getenv(\"ATLAS_KEY\")\n"
   ]
  },
  {
   "cell_type": "code",
   "execution_count": 51,
   "metadata": {},
   "outputs": [],
   "source": [
    "client = MongoClient(ATLAS_KEY)\n",
    "db = client.IMDBscrap\n",
    "collection = db.films"
   ]
  },
  {
   "cell_type": "markdown",
   "metadata": {},
   "source": []
  },
  {
   "cell_type": "code",
   "execution_count": 49,
   "metadata": {},
   "outputs": [
    {
     "data": {
      "text/plain": [
       "'Gone with the Wind'"
      ]
     },
     "execution_count": 49,
     "metadata": {},
     "output_type": "execute_result"
    }
   ],
   "source": [
    "film_le_plus_long = collection.find_one(sort=[(\"duree\", -1)])\n",
    "film_le_plus_long['titre']"
   ]
  },
  {
   "cell_type": "code",
   "execution_count": 50,
   "metadata": {},
   "outputs": [
    {
     "data": {
      "text/plain": [
       "['The Dark Knight',\n",
       " 'The Godfather',\n",
       " 'The Godfather Part II',\n",
       " 'The Lord of the Rings: The Return of the King',\n",
       " 'The Shawshank Redemption']"
      ]
     },
     "execution_count": 50,
     "metadata": {},
     "output_type": "execute_result"
    }
   ],
   "source": [
    "titres = collection.distinct(\"titre\", {\"_id\": {\"$in\": [doc[\"_id\"] for doc in collection.find().sort([(\"score\", -1)]).limit(5)]}})\n",
    "\n",
    "\n",
    "titres\n"
   ]
  }
 ],
 "metadata": {
  "kernelspec": {
   "display_name": "scrap-env",
   "language": "python",
   "name": "python3"
  },
  "language_info": {
   "codemirror_mode": {
    "name": "ipython",
    "version": 3
   },
   "file_extension": ".py",
   "mimetype": "text/x-python",
   "name": "python",
   "nbconvert_exporter": "python",
   "pygments_lexer": "ipython3",
   "version": "3.11.2"
  },
  "orig_nbformat": 4,
  "vscode": {
   "interpreter": {
    "hash": "5e918e6be0625e8c39936d91bb62a04b28a82b841a2d23f0d512ad0b54d2aa64"
   }
  }
 },
 "nbformat": 4,
 "nbformat_minor": 2
}
